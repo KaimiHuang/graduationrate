{
 "cells": [
  {
   "cell_type": "markdown",
   "metadata": {
    "id": "hdZRN25vuN9I"
   },
   "source": [
    "# What factors are related to student academic outcomes?"
   ]
  },
  {
   "cell_type": "markdown",
   "metadata": {},
   "source": [
    "This project started as an exploratory analysis to identify superficial factors such as gender, academic program that potentially could be related to students' academic outcomes. As academic performance metric was not immediately obvious in the data, time spent in a program and whether one graduated from their program were considered. The latter would be used as the metric.\n",
    "\n",
    "During the analysis, a hidden factor - whether a student's study overlapped with the Covid-19 era, was discovered. Via chi-square test, it was tested to be significantly related to a student's graduation. Inlcluding the factor as an additional predictor and using logistic regression, a model that could make predictions with high accuracy was found.\n",
    "\n",
    "However, although the model had high accuracy, I doubt it would work equally well for datasets from drastically different timeframes such as pre-Covid or post-Covid. Because the training data seemed to contain a good proportion of students that started right before the year 2020, datasets with few population in this category would not produce the same model."
   ]
  },
  {
   "cell_type": "markdown",
   "metadata": {},
   "source": [
    "Exploratory Analysis"
   ]
  },
  {
   "cell_type": "code",
   "execution_count": 1,
   "metadata": {
    "id": "zl5raAzNKeof"
   },
   "outputs": [],
   "source": [
    "import pandas as pd\n",
    "import numpy as np\n",
    "from scipy.stats import chi2_contingency, stats\n",
    "import seaborn as sn\n",
    "import matplotlib.pyplot as plt\n",
    "from datetime import datetime, timedelta\n",
    "\n",
    "df = pd.read_csv('./data.csv')"
   ]
  },
  {
   "cell_type": "code",
   "execution_count": 2,
   "metadata": {
    "colab": {
     "base_uri": "https://localhost:8080/",
     "height": 677
    },
    "executionInfo": {
     "elapsed": 6,
     "status": "ok",
     "timestamp": 1693786683533,
     "user": {
      "displayName": "Kaimi Huang",
      "userId": "13785883289456130160"
     },
     "user_tz": 240
    },
    "id": "r3jKyMOtxOOk",
    "outputId": "9d81b774-96ae-45ed-e47a-d2973e09a24a"
   },
   "outputs": [
    {
     "data": {
      "text/html": [
       "<div>\n",
       "<style scoped>\n",
       "    .dataframe tbody tr th:only-of-type {\n",
       "        vertical-align: middle;\n",
       "    }\n",
       "\n",
       "    .dataframe tbody tr th {\n",
       "        vertical-align: top;\n",
       "    }\n",
       "\n",
       "    .dataframe thead th {\n",
       "        text-align: right;\n",
       "    }\n",
       "</style>\n",
       "<table border=\"1\" class=\"dataframe\">\n",
       "  <thead>\n",
       "    <tr style=\"text-align: right;\">\n",
       "      <th></th>\n",
       "      <th>Starting Year</th>\n",
       "      <th>Student Identifier</th>\n",
       "      <th>MS/PhD or PhD</th>\n",
       "      <th>Billing_Program</th>\n",
       "      <th>gender</th>\n",
       "      <th>US_Citz/PR_Status</th>\n",
       "      <th>Visa_Type</th>\n",
       "      <th>ipeds_long_name</th>\n",
       "      <th>Years Registered</th>\n",
       "      <th>Graduation_Date</th>\n",
       "    </tr>\n",
       "  </thead>\n",
       "  <tbody>\n",
       "    <tr>\n",
       "      <th>0</th>\n",
       "      <td>2004</td>\n",
       "      <td>Student 181</td>\n",
       "      <td>PhD</td>\n",
       "      <td>Program 2</td>\n",
       "      <td>M</td>\n",
       "      <td>N</td>\n",
       "      <td>F1</td>\n",
       "      <td>NRA</td>\n",
       "      <td>5.0</td>\n",
       "      <td>2009-10-21</td>\n",
       "    </tr>\n",
       "    <tr>\n",
       "      <th>1</th>\n",
       "      <td>2009</td>\n",
       "      <td>Student 3</td>\n",
       "      <td>MS/PhD</td>\n",
       "      <td>Program 2</td>\n",
       "      <td>M</td>\n",
       "      <td>N</td>\n",
       "      <td>F1</td>\n",
       "      <td>NRA</td>\n",
       "      <td>5.0</td>\n",
       "      <td>2014-05-21</td>\n",
       "    </tr>\n",
       "    <tr>\n",
       "      <th>2</th>\n",
       "      <td>2009</td>\n",
       "      <td>Student 6</td>\n",
       "      <td>MS/PhD</td>\n",
       "      <td>Program 2</td>\n",
       "      <td>M</td>\n",
       "      <td>N</td>\n",
       "      <td>NI</td>\n",
       "      <td>NRA</td>\n",
       "      <td>4.5</td>\n",
       "      <td>2015-02-11</td>\n",
       "    </tr>\n",
       "    <tr>\n",
       "      <th>3</th>\n",
       "      <td>2009</td>\n",
       "      <td>Student 8</td>\n",
       "      <td>MS/PhD</td>\n",
       "      <td>Program 2</td>\n",
       "      <td>F</td>\n",
       "      <td>N</td>\n",
       "      <td>F1</td>\n",
       "      <td>NRA</td>\n",
       "      <td>5.0</td>\n",
       "      <td>2014-10-15</td>\n",
       "    </tr>\n",
       "    <tr>\n",
       "      <th>4</th>\n",
       "      <td>2015</td>\n",
       "      <td>Student 74</td>\n",
       "      <td>PhD</td>\n",
       "      <td>Program 2</td>\n",
       "      <td>M</td>\n",
       "      <td>N</td>\n",
       "      <td>F1</td>\n",
       "      <td>NRA</td>\n",
       "      <td>4.0</td>\n",
       "      <td>2019-05-22</td>\n",
       "    </tr>\n",
       "    <tr>\n",
       "      <th>5</th>\n",
       "      <td>2020</td>\n",
       "      <td>Student 129</td>\n",
       "      <td>MS/PhD</td>\n",
       "      <td>Program 2</td>\n",
       "      <td>M</td>\n",
       "      <td>N</td>\n",
       "      <td>Z1</td>\n",
       "      <td>NRA</td>\n",
       "      <td>0.5</td>\n",
       "      <td>NaN</td>\n",
       "    </tr>\n",
       "    <tr>\n",
       "      <th>6</th>\n",
       "      <td>2017</td>\n",
       "      <td>Student 88</td>\n",
       "      <td>MS/PhD</td>\n",
       "      <td>Program 2</td>\n",
       "      <td>M</td>\n",
       "      <td>N</td>\n",
       "      <td>F1</td>\n",
       "      <td>NRA</td>\n",
       "      <td>3.5</td>\n",
       "      <td>NaN</td>\n",
       "    </tr>\n",
       "    <tr>\n",
       "      <th>7</th>\n",
       "      <td>2013</td>\n",
       "      <td>Student 42</td>\n",
       "      <td>PhD</td>\n",
       "      <td>Program 1</td>\n",
       "      <td>M</td>\n",
       "      <td>N</td>\n",
       "      <td>F1</td>\n",
       "      <td>NRA</td>\n",
       "      <td>5.5</td>\n",
       "      <td>2020-05-20</td>\n",
       "    </tr>\n",
       "    <tr>\n",
       "      <th>8</th>\n",
       "      <td>2014</td>\n",
       "      <td>Student 48</td>\n",
       "      <td>MS/PhD</td>\n",
       "      <td>Program 2</td>\n",
       "      <td>M</td>\n",
       "      <td>N</td>\n",
       "      <td>F1</td>\n",
       "      <td>NRA</td>\n",
       "      <td>1.0</td>\n",
       "      <td>NaN</td>\n",
       "    </tr>\n",
       "    <tr>\n",
       "      <th>9</th>\n",
       "      <td>2013</td>\n",
       "      <td>Student 46</td>\n",
       "      <td>PhD</td>\n",
       "      <td>Program 2</td>\n",
       "      <td>M</td>\n",
       "      <td>N</td>\n",
       "      <td>F1</td>\n",
       "      <td>NRA</td>\n",
       "      <td>4.0</td>\n",
       "      <td>2017-10-18</td>\n",
       "    </tr>\n",
       "    <tr>\n",
       "      <th>10</th>\n",
       "      <td>2011</td>\n",
       "      <td>Student 25</td>\n",
       "      <td>MS/PhD</td>\n",
       "      <td>Program 2</td>\n",
       "      <td>M</td>\n",
       "      <td>N</td>\n",
       "      <td>PR</td>\n",
       "      <td>White</td>\n",
       "      <td>5.0</td>\n",
       "      <td>2016-10-19</td>\n",
       "    </tr>\n",
       "    <tr>\n",
       "      <th>11</th>\n",
       "      <td>2008</td>\n",
       "      <td>Student 158</td>\n",
       "      <td>MS/PhD</td>\n",
       "      <td>Program 2</td>\n",
       "      <td>M</td>\n",
       "      <td>N</td>\n",
       "      <td>F1</td>\n",
       "      <td>NRA</td>\n",
       "      <td>5.0</td>\n",
       "      <td>2013-05-22</td>\n",
       "    </tr>\n",
       "    <tr>\n",
       "      <th>12</th>\n",
       "      <td>2019</td>\n",
       "      <td>Student 120</td>\n",
       "      <td>PhD</td>\n",
       "      <td>Program 2</td>\n",
       "      <td>M</td>\n",
       "      <td>N</td>\n",
       "      <td>F1</td>\n",
       "      <td>NRA</td>\n",
       "      <td>1.5</td>\n",
       "      <td>NaN</td>\n",
       "    </tr>\n",
       "    <tr>\n",
       "      <th>13</th>\n",
       "      <td>2008</td>\n",
       "      <td>Student 163</td>\n",
       "      <td>PhD</td>\n",
       "      <td>Program 2</td>\n",
       "      <td>F</td>\n",
       "      <td>N</td>\n",
       "      <td>F1</td>\n",
       "      <td>NRA</td>\n",
       "      <td>6.0</td>\n",
       "      <td>2014-05-21</td>\n",
       "    </tr>\n",
       "    <tr>\n",
       "      <th>14</th>\n",
       "      <td>2014</td>\n",
       "      <td>Student 58</td>\n",
       "      <td>MS/PhD</td>\n",
       "      <td>Program 2</td>\n",
       "      <td>M</td>\n",
       "      <td>N</td>\n",
       "      <td>F1</td>\n",
       "      <td>NRA</td>\n",
       "      <td>5.0</td>\n",
       "      <td>2019-10-16</td>\n",
       "    </tr>\n",
       "    <tr>\n",
       "      <th>15</th>\n",
       "      <td>2014</td>\n",
       "      <td>Student 57</td>\n",
       "      <td>PhD</td>\n",
       "      <td>Program 2</td>\n",
       "      <td>M</td>\n",
       "      <td>Y</td>\n",
       "      <td>C</td>\n",
       "      <td>White</td>\n",
       "      <td>3.0</td>\n",
       "      <td>2017-10-18</td>\n",
       "    </tr>\n",
       "    <tr>\n",
       "      <th>16</th>\n",
       "      <td>2009</td>\n",
       "      <td>Student 9</td>\n",
       "      <td>PhD</td>\n",
       "      <td>Program 2</td>\n",
       "      <td>F</td>\n",
       "      <td>N</td>\n",
       "      <td>F1</td>\n",
       "      <td>NRA</td>\n",
       "      <td>6.0</td>\n",
       "      <td>2015-10-21</td>\n",
       "    </tr>\n",
       "    <tr>\n",
       "      <th>17</th>\n",
       "      <td>2000</td>\n",
       "      <td>Student 166</td>\n",
       "      <td>PhD</td>\n",
       "      <td>Program 2</td>\n",
       "      <td>M</td>\n",
       "      <td>Y</td>\n",
       "      <td>NaN</td>\n",
       "      <td>White</td>\n",
       "      <td>3.0</td>\n",
       "      <td>NaN</td>\n",
       "    </tr>\n",
       "    <tr>\n",
       "      <th>18</th>\n",
       "      <td>2014</td>\n",
       "      <td>Student 51</td>\n",
       "      <td>MS/PhD</td>\n",
       "      <td>Program 2</td>\n",
       "      <td>M</td>\n",
       "      <td>Y</td>\n",
       "      <td>C</td>\n",
       "      <td>White</td>\n",
       "      <td>5.0</td>\n",
       "      <td>2019-10-16</td>\n",
       "    </tr>\n",
       "    <tr>\n",
       "      <th>19</th>\n",
       "      <td>2017</td>\n",
       "      <td>Student 99</td>\n",
       "      <td>PhD</td>\n",
       "      <td>Program 2</td>\n",
       "      <td>M</td>\n",
       "      <td>N</td>\n",
       "      <td>F1</td>\n",
       "      <td>NRA</td>\n",
       "      <td>3.5</td>\n",
       "      <td>NaN</td>\n",
       "    </tr>\n",
       "  </tbody>\n",
       "</table>\n",
       "</div>"
      ],
      "text/plain": [
       "    Starting Year Student Identifier MS/PhD or PhD Billing_Program gender  \\\n",
       "0            2004        Student 181           PhD       Program 2      M   \n",
       "1            2009          Student 3        MS/PhD       Program 2      M   \n",
       "2            2009          Student 6        MS/PhD       Program 2      M   \n",
       "3            2009          Student 8        MS/PhD       Program 2      F   \n",
       "4            2015         Student 74           PhD       Program 2      M   \n",
       "5            2020        Student 129        MS/PhD       Program 2      M   \n",
       "6            2017         Student 88        MS/PhD       Program 2      M   \n",
       "7            2013         Student 42           PhD       Program 1      M   \n",
       "8            2014         Student 48        MS/PhD       Program 2      M   \n",
       "9            2013         Student 46           PhD       Program 2      M   \n",
       "10           2011         Student 25        MS/PhD       Program 2      M   \n",
       "11           2008        Student 158        MS/PhD       Program 2      M   \n",
       "12           2019        Student 120           PhD       Program 2      M   \n",
       "13           2008        Student 163           PhD       Program 2      F   \n",
       "14           2014         Student 58        MS/PhD       Program 2      M   \n",
       "15           2014         Student 57           PhD       Program 2      M   \n",
       "16           2009          Student 9           PhD       Program 2      F   \n",
       "17           2000        Student 166           PhD       Program 2      M   \n",
       "18           2014         Student 51        MS/PhD       Program 2      M   \n",
       "19           2017         Student 99           PhD       Program 2      M   \n",
       "\n",
       "   US_Citz/PR_Status Visa_Type ipeds_long_name  Years Registered  \\\n",
       "0                  N        F1             NRA               5.0   \n",
       "1                  N        F1             NRA               5.0   \n",
       "2                  N        NI             NRA               4.5   \n",
       "3                  N        F1             NRA               5.0   \n",
       "4                  N        F1             NRA               4.0   \n",
       "5                  N        Z1             NRA               0.5   \n",
       "6                  N        F1             NRA               3.5   \n",
       "7                  N        F1             NRA               5.5   \n",
       "8                  N        F1             NRA               1.0   \n",
       "9                  N        F1             NRA               4.0   \n",
       "10                 N        PR           White               5.0   \n",
       "11                 N        F1             NRA               5.0   \n",
       "12                 N        F1             NRA               1.5   \n",
       "13                 N        F1             NRA               6.0   \n",
       "14                 N        F1             NRA               5.0   \n",
       "15                 Y        C            White               3.0   \n",
       "16                 N        F1             NRA               6.0   \n",
       "17                 Y       NaN           White               3.0   \n",
       "18                 Y        C            White               5.0   \n",
       "19                 N        F1             NRA               3.5   \n",
       "\n",
       "   Graduation_Date  \n",
       "0       2009-10-21  \n",
       "1       2014-05-21  \n",
       "2       2015-02-11  \n",
       "3       2014-10-15  \n",
       "4       2019-05-22  \n",
       "5              NaN  \n",
       "6              NaN  \n",
       "7       2020-05-20  \n",
       "8              NaN  \n",
       "9       2017-10-18  \n",
       "10      2016-10-19  \n",
       "11      2013-05-22  \n",
       "12             NaN  \n",
       "13      2014-05-21  \n",
       "14      2019-10-16  \n",
       "15      2017-10-18  \n",
       "16      2015-10-21  \n",
       "17             NaN  \n",
       "18      2019-10-16  \n",
       "19             NaN  "
      ]
     },
     "execution_count": 2,
     "metadata": {},
     "output_type": "execute_result"
    }
   ],
   "source": [
    "df.head(20)"
   ]
  },
  {
   "cell_type": "code",
   "execution_count": 3,
   "metadata": {},
   "outputs": [],
   "source": [
    "#add a column named 'Graduated' to indicate whether a student has graduated. Yes - graduated, No - otherwise\n",
    "#assuming students w/o graduation dates are not on Leave of Absence\n",
    "\n",
    "df['Graduated'] = ['No' if df.Graduation_Date.isna()[i] else 'Yes' for i in range(df.Graduation_Date.shape[0])]"
   ]
  },
  {
   "cell_type": "code",
   "execution_count": 4,
   "metadata": {
    "colab": {
     "base_uri": "https://localhost:8080/"
    },
    "executionInfo": {
     "elapsed": 122,
     "status": "ok",
     "timestamp": 1693786683649,
     "user": {
      "displayName": "Kaimi Huang",
      "userId": "13785883289456130160"
     },
     "user_tz": 240
    },
    "id": "LN7Bc4hP41fe",
    "outputId": "4f3939e6-046c-4b5e-83f9-c34d4e4c3349"
   },
   "outputs": [
    {
     "name": "stdout",
     "output_type": "stream",
     "text": [
      "<class 'pandas.core.frame.DataFrame'>\n",
      "RangeIndex: 50 entries, 0 to 49\n",
      "Data columns (total 11 columns):\n",
      " #   Column              Non-Null Count  Dtype  \n",
      "---  ------              --------------  -----  \n",
      " 0   Starting Year       50 non-null     int64  \n",
      " 1   Student Identifier  50 non-null     object \n",
      " 2   MS/PhD or PhD       50 non-null     object \n",
      " 3   Billing_Program     50 non-null     object \n",
      " 4   gender              50 non-null     object \n",
      " 5   US_Citz/PR_Status   50 non-null     object \n",
      " 6   Visa_Type           49 non-null     object \n",
      " 7   ipeds_long_name     50 non-null     object \n",
      " 8   Years Registered    50 non-null     float64\n",
      " 9   Graduation_Date     31 non-null     object \n",
      " 10  Graduated           50 non-null     object \n",
      "dtypes: float64(1), int64(1), object(9)\n",
      "memory usage: 4.4+ KB\n"
     ]
    }
   ],
   "source": [
    "df.info()"
   ]
  },
  {
   "cell_type": "code",
   "execution_count": 5,
   "metadata": {},
   "outputs": [
    {
     "data": {
      "text/plain": [
       "Starting Year          0\n",
       "Student Identifier     0\n",
       "MS/PhD or PhD          0\n",
       "Billing_Program        0\n",
       "gender                 0\n",
       "US_Citz/PR_Status      0\n",
       "Visa_Type              1\n",
       "ipeds_long_name        0\n",
       "Years Registered       0\n",
       "Graduation_Date       19\n",
       "Graduated              0\n",
       "dtype: int64"
      ]
     },
     "execution_count": 5,
     "metadata": {},
     "output_type": "execute_result"
    }
   ],
   "source": [
    "#check rows that have missing values in the columns\n",
    "\n",
    "df.isna().sum()"
   ]
  },
  {
   "cell_type": "code",
   "execution_count": 6,
   "metadata": {},
   "outputs": [
    {
     "data": {
      "text/html": [
       "<div>\n",
       "<style scoped>\n",
       "    .dataframe tbody tr th:only-of-type {\n",
       "        vertical-align: middle;\n",
       "    }\n",
       "\n",
       "    .dataframe tbody tr th {\n",
       "        vertical-align: top;\n",
       "    }\n",
       "\n",
       "    .dataframe thead th {\n",
       "        text-align: right;\n",
       "    }\n",
       "</style>\n",
       "<table border=\"1\" class=\"dataframe\">\n",
       "  <thead>\n",
       "    <tr style=\"text-align: right;\">\n",
       "      <th></th>\n",
       "      <th>Starting Year</th>\n",
       "      <th>Student Identifier</th>\n",
       "      <th>MS/PhD or PhD</th>\n",
       "      <th>Billing_Program</th>\n",
       "      <th>gender</th>\n",
       "      <th>US_Citz/PR_Status</th>\n",
       "      <th>Visa_Type</th>\n",
       "      <th>ipeds_long_name</th>\n",
       "      <th>Years Registered</th>\n",
       "      <th>Graduation_Date</th>\n",
       "      <th>Graduated</th>\n",
       "    </tr>\n",
       "  </thead>\n",
       "  <tbody>\n",
       "    <tr>\n",
       "      <th>17</th>\n",
       "      <td>2000</td>\n",
       "      <td>Student 166</td>\n",
       "      <td>PhD</td>\n",
       "      <td>Program 2</td>\n",
       "      <td>M</td>\n",
       "      <td>Y</td>\n",
       "      <td>NaN</td>\n",
       "      <td>White</td>\n",
       "      <td>3.0</td>\n",
       "      <td>NaN</td>\n",
       "      <td>No</td>\n",
       "    </tr>\n",
       "  </tbody>\n",
       "</table>\n",
       "</div>"
      ],
      "text/plain": [
       "    Starting Year Student Identifier MS/PhD or PhD Billing_Program gender  \\\n",
       "17           2000        Student 166           PhD       Program 2      M   \n",
       "\n",
       "   US_Citz/PR_Status Visa_Type ipeds_long_name  Years Registered  \\\n",
       "17                 Y       NaN           White               3.0   \n",
       "\n",
       "   Graduation_Date Graduated  \n",
       "17             NaN        No  "
      ]
     },
     "execution_count": 6,
     "metadata": {},
     "output_type": "execute_result"
    }
   ],
   "source": [
    "df[df.Visa_Type.isna()==1]"
   ]
  },
  {
   "cell_type": "code",
   "execution_count": 7,
   "metadata": {},
   "outputs": [],
   "source": [
    "#replace nan value in visa type with 'unknown'\n",
    "\n",
    "df['Visa_Type'] = ['Unknown' if df.Visa_Type.isna()[i] else df.Visa_Type[i] for i in range(df.Visa_Type.shape[0])]\n",
    "#df"
   ]
  },
  {
   "cell_type": "code",
   "execution_count": 8,
   "metadata": {
    "id": "Lwy3l_48Pu2U"
   },
   "outputs": [],
   "source": [
    "#rename some of the columns for convenience\n",
    "\n",
    "df.rename(columns = {'MS/PhD or PhD':'Program', 'ipeds_long_name':'Ethnicity'}, inplace = True)\n",
    "df['Ethnicity'] = df['Ethnicity'].apply(lambda x: 'Other' if x == 'NRA' else x)"
   ]
  },
  {
   "cell_type": "code",
   "execution_count": 9,
   "metadata": {
    "colab": {
     "base_uri": "https://localhost:8080/"
    },
    "executionInfo": {
     "elapsed": 6,
     "status": "ok",
     "timestamp": 1693786683650,
     "user": {
      "displayName": "Kaimi Huang",
      "userId": "13785883289456130160"
     },
     "user_tz": 240
    },
    "id": "qxp2whQzciRg",
    "outputId": "2c41737d-6a44-461e-b96a-cc302d70d788"
   },
   "outputs": [
    {
     "name": "stdout",
     "output_type": "stream",
     "text": [
      "Program: ['PhD' 'MS/PhD']\n",
      "Billing_Program: ['Program 2' 'Program 1']\n",
      "gender: ['M' 'F']\n",
      "US_Citz/PR_Status: ['N' 'Y']\n",
      "Visa_Type: ['F1' 'NI' 'Z1' 'PR' 'C ' 'Unknown' 'J1']\n",
      "Ethnicity: ['Other' 'White' 'Asian']\n",
      "Graduated: ['Yes' 'No']\n"
     ]
    }
   ],
   "source": [
    "#categorical variables and their values excluding student identifier and graduation date\n",
    "\n",
    "col_names = df.columns.to_list()\n",
    "\n",
    "cat_factors = list(col_name for col_name in col_names if df[col_name].dtype == 'object')\n",
    "\n",
    "for factor in cat_factors:\n",
    "  if factor == 'Student Identifier' or factor =='Graduation_Date':\n",
    "    continue\n",
    "  print(f'{factor}: {df[factor].unique()}')"
   ]
  },
  {
   "cell_type": "code",
   "execution_count": 10,
   "metadata": {
    "colab": {
     "base_uri": "https://localhost:8080/"
    },
    "executionInfo": {
     "elapsed": 6,
     "status": "ok",
     "timestamp": 1693786683650,
     "user": {
      "displayName": "Kaimi Huang",
      "userId": "13785883289456130160"
     },
     "user_tz": 240
    },
    "id": "AoWMzm_22w1b",
    "outputId": "c8353cc2-49dd-4f0d-b3b9-4db6195e01d4"
   },
   "outputs": [
    {
     "data": {
      "text/plain": [
       "datetime.date(2020, 1, 1)"
      ]
     },
     "execution_count": 10,
     "metadata": {},
     "output_type": "execute_result"
    }
   ],
   "source": [
    "datetime(2020,1,1).date()"
   ]
  },
  {
   "cell_type": "code",
   "execution_count": 11,
   "metadata": {
    "id": "lq-TW1yupjxT"
   },
   "outputs": [],
   "source": [
    "#change starting year and years registered to datetime format\n",
    "\n",
    "df['Starting Year'] = df['Starting Year'].apply(lambda x: datetime(x,1,1).date())"
   ]
  },
  {
   "cell_type": "code",
   "execution_count": 12,
   "metadata": {
    "colab": {
     "base_uri": "https://localhost:8080/",
     "height": 677
    },
    "executionInfo": {
     "elapsed": 191,
     "status": "ok",
     "timestamp": 1693786683837,
     "user": {
      "displayName": "Kaimi Huang",
      "userId": "13785883289456130160"
     },
     "user_tz": 240
    },
    "id": "ecfHyQGmtL9f",
    "outputId": "00b2f1e3-5801-40f9-f43b-5098633c7b33"
   },
   "outputs": [
    {
     "data": {
      "text/html": [
       "<div>\n",
       "<style scoped>\n",
       "    .dataframe tbody tr th:only-of-type {\n",
       "        vertical-align: middle;\n",
       "    }\n",
       "\n",
       "    .dataframe tbody tr th {\n",
       "        vertical-align: top;\n",
       "    }\n",
       "\n",
       "    .dataframe thead th {\n",
       "        text-align: right;\n",
       "    }\n",
       "</style>\n",
       "<table border=\"1\" class=\"dataframe\">\n",
       "  <thead>\n",
       "    <tr style=\"text-align: right;\">\n",
       "      <th></th>\n",
       "      <th>Starting Year</th>\n",
       "      <th>Student Identifier</th>\n",
       "      <th>Program</th>\n",
       "      <th>Billing_Program</th>\n",
       "      <th>gender</th>\n",
       "      <th>US_Citz/PR_Status</th>\n",
       "      <th>Visa_Type</th>\n",
       "      <th>Ethnicity</th>\n",
       "      <th>Years Registered</th>\n",
       "      <th>Graduation_Date</th>\n",
       "      <th>Graduated</th>\n",
       "    </tr>\n",
       "  </thead>\n",
       "  <tbody>\n",
       "    <tr>\n",
       "      <th>0</th>\n",
       "      <td>2020-01-01</td>\n",
       "      <td>Student 126</td>\n",
       "      <td>MS/PhD</td>\n",
       "      <td>Program 2</td>\n",
       "      <td>M</td>\n",
       "      <td>N</td>\n",
       "      <td>Z1</td>\n",
       "      <td>Other</td>\n",
       "      <td>0.5</td>\n",
       "      <td>NaN</td>\n",
       "      <td>No</td>\n",
       "    </tr>\n",
       "    <tr>\n",
       "      <th>1</th>\n",
       "      <td>2020-01-01</td>\n",
       "      <td>Student 132</td>\n",
       "      <td>PhD</td>\n",
       "      <td>Program 2</td>\n",
       "      <td>M</td>\n",
       "      <td>N</td>\n",
       "      <td>Z1</td>\n",
       "      <td>Other</td>\n",
       "      <td>0.5</td>\n",
       "      <td>NaN</td>\n",
       "      <td>No</td>\n",
       "    </tr>\n",
       "    <tr>\n",
       "      <th>2</th>\n",
       "      <td>2020-01-01</td>\n",
       "      <td>Student 129</td>\n",
       "      <td>MS/PhD</td>\n",
       "      <td>Program 2</td>\n",
       "      <td>M</td>\n",
       "      <td>N</td>\n",
       "      <td>Z1</td>\n",
       "      <td>Other</td>\n",
       "      <td>0.5</td>\n",
       "      <td>NaN</td>\n",
       "      <td>No</td>\n",
       "    </tr>\n",
       "    <tr>\n",
       "      <th>3</th>\n",
       "      <td>2020-01-01</td>\n",
       "      <td>Student 135</td>\n",
       "      <td>PhD</td>\n",
       "      <td>Program 2</td>\n",
       "      <td>M</td>\n",
       "      <td>N</td>\n",
       "      <td>F1</td>\n",
       "      <td>Other</td>\n",
       "      <td>0.5</td>\n",
       "      <td>NaN</td>\n",
       "      <td>No</td>\n",
       "    </tr>\n",
       "    <tr>\n",
       "      <th>4</th>\n",
       "      <td>2020-01-01</td>\n",
       "      <td>Student 134</td>\n",
       "      <td>PhD</td>\n",
       "      <td>Program 2</td>\n",
       "      <td>M</td>\n",
       "      <td>N</td>\n",
       "      <td>F1</td>\n",
       "      <td>Other</td>\n",
       "      <td>0.5</td>\n",
       "      <td>NaN</td>\n",
       "      <td>No</td>\n",
       "    </tr>\n",
       "    <tr>\n",
       "      <th>5</th>\n",
       "      <td>2019-01-01</td>\n",
       "      <td>Student 120</td>\n",
       "      <td>PhD</td>\n",
       "      <td>Program 2</td>\n",
       "      <td>M</td>\n",
       "      <td>N</td>\n",
       "      <td>F1</td>\n",
       "      <td>Other</td>\n",
       "      <td>1.5</td>\n",
       "      <td>NaN</td>\n",
       "      <td>No</td>\n",
       "    </tr>\n",
       "    <tr>\n",
       "      <th>6</th>\n",
       "      <td>2018-01-01</td>\n",
       "      <td>Student 102</td>\n",
       "      <td>MS/PhD</td>\n",
       "      <td>Program 2</td>\n",
       "      <td>M</td>\n",
       "      <td>N</td>\n",
       "      <td>F1</td>\n",
       "      <td>Other</td>\n",
       "      <td>2.5</td>\n",
       "      <td>NaN</td>\n",
       "      <td>No</td>\n",
       "    </tr>\n",
       "    <tr>\n",
       "      <th>7</th>\n",
       "      <td>2018-01-01</td>\n",
       "      <td>Student 103</td>\n",
       "      <td>MS/PhD</td>\n",
       "      <td>Program 2</td>\n",
       "      <td>F</td>\n",
       "      <td>N</td>\n",
       "      <td>F1</td>\n",
       "      <td>Other</td>\n",
       "      <td>2.5</td>\n",
       "      <td>NaN</td>\n",
       "      <td>No</td>\n",
       "    </tr>\n",
       "    <tr>\n",
       "      <th>8</th>\n",
       "      <td>2018-01-01</td>\n",
       "      <td>Student 113</td>\n",
       "      <td>PhD</td>\n",
       "      <td>Program 2</td>\n",
       "      <td>M</td>\n",
       "      <td>N</td>\n",
       "      <td>F1</td>\n",
       "      <td>Other</td>\n",
       "      <td>2.5</td>\n",
       "      <td>NaN</td>\n",
       "      <td>No</td>\n",
       "    </tr>\n",
       "    <tr>\n",
       "      <th>9</th>\n",
       "      <td>2017-01-01</td>\n",
       "      <td>Student 91</td>\n",
       "      <td>MS/PhD</td>\n",
       "      <td>Program 2</td>\n",
       "      <td>M</td>\n",
       "      <td>Y</td>\n",
       "      <td>C</td>\n",
       "      <td>White</td>\n",
       "      <td>3.5</td>\n",
       "      <td>NaN</td>\n",
       "      <td>No</td>\n",
       "    </tr>\n",
       "    <tr>\n",
       "      <th>10</th>\n",
       "      <td>2017-01-01</td>\n",
       "      <td>Student 90</td>\n",
       "      <td>MS/PhD</td>\n",
       "      <td>Program 2</td>\n",
       "      <td>M</td>\n",
       "      <td>Y</td>\n",
       "      <td>C</td>\n",
       "      <td>White</td>\n",
       "      <td>3.5</td>\n",
       "      <td>NaN</td>\n",
       "      <td>No</td>\n",
       "    </tr>\n",
       "    <tr>\n",
       "      <th>11</th>\n",
       "      <td>2017-01-01</td>\n",
       "      <td>Student 96</td>\n",
       "      <td>MS/PhD</td>\n",
       "      <td>Program 2</td>\n",
       "      <td>F</td>\n",
       "      <td>N</td>\n",
       "      <td>F1</td>\n",
       "      <td>Other</td>\n",
       "      <td>3.5</td>\n",
       "      <td>NaN</td>\n",
       "      <td>No</td>\n",
       "    </tr>\n",
       "    <tr>\n",
       "      <th>12</th>\n",
       "      <td>2017-01-01</td>\n",
       "      <td>Student 99</td>\n",
       "      <td>PhD</td>\n",
       "      <td>Program 2</td>\n",
       "      <td>M</td>\n",
       "      <td>N</td>\n",
       "      <td>F1</td>\n",
       "      <td>Other</td>\n",
       "      <td>3.5</td>\n",
       "      <td>NaN</td>\n",
       "      <td>No</td>\n",
       "    </tr>\n",
       "    <tr>\n",
       "      <th>13</th>\n",
       "      <td>2017-01-01</td>\n",
       "      <td>Student 88</td>\n",
       "      <td>MS/PhD</td>\n",
       "      <td>Program 2</td>\n",
       "      <td>M</td>\n",
       "      <td>N</td>\n",
       "      <td>F1</td>\n",
       "      <td>Other</td>\n",
       "      <td>3.5</td>\n",
       "      <td>NaN</td>\n",
       "      <td>No</td>\n",
       "    </tr>\n",
       "    <tr>\n",
       "      <th>14</th>\n",
       "      <td>2016-01-01</td>\n",
       "      <td>Student 77</td>\n",
       "      <td>MS/PhD</td>\n",
       "      <td>Program 2</td>\n",
       "      <td>M</td>\n",
       "      <td>N</td>\n",
       "      <td>F1</td>\n",
       "      <td>Other</td>\n",
       "      <td>4.5</td>\n",
       "      <td>NaN</td>\n",
       "      <td>No</td>\n",
       "    </tr>\n",
       "    <tr>\n",
       "      <th>15</th>\n",
       "      <td>2015-01-01</td>\n",
       "      <td>Student 59</td>\n",
       "      <td>MS/PhD</td>\n",
       "      <td>Program 1</td>\n",
       "      <td>M</td>\n",
       "      <td>N</td>\n",
       "      <td>F1</td>\n",
       "      <td>Other</td>\n",
       "      <td>5.0</td>\n",
       "      <td>2020-05-20</td>\n",
       "      <td>Yes</td>\n",
       "    </tr>\n",
       "    <tr>\n",
       "      <th>16</th>\n",
       "      <td>2015-01-01</td>\n",
       "      <td>Student 65</td>\n",
       "      <td>MS/PhD</td>\n",
       "      <td>Program 2</td>\n",
       "      <td>M</td>\n",
       "      <td>N</td>\n",
       "      <td>F1</td>\n",
       "      <td>Other</td>\n",
       "      <td>5.5</td>\n",
       "      <td>NaN</td>\n",
       "      <td>No</td>\n",
       "    </tr>\n",
       "    <tr>\n",
       "      <th>17</th>\n",
       "      <td>2015-01-01</td>\n",
       "      <td>Student 74</td>\n",
       "      <td>PhD</td>\n",
       "      <td>Program 2</td>\n",
       "      <td>M</td>\n",
       "      <td>N</td>\n",
       "      <td>F1</td>\n",
       "      <td>Other</td>\n",
       "      <td>4.0</td>\n",
       "      <td>2019-05-22</td>\n",
       "      <td>Yes</td>\n",
       "    </tr>\n",
       "    <tr>\n",
       "      <th>18</th>\n",
       "      <td>2015-01-01</td>\n",
       "      <td>Student 64</td>\n",
       "      <td>PhD</td>\n",
       "      <td>Program 2</td>\n",
       "      <td>M</td>\n",
       "      <td>Y</td>\n",
       "      <td>C</td>\n",
       "      <td>Asian</td>\n",
       "      <td>5.0</td>\n",
       "      <td>2020-10-21</td>\n",
       "      <td>Yes</td>\n",
       "    </tr>\n",
       "    <tr>\n",
       "      <th>19</th>\n",
       "      <td>2015-01-01</td>\n",
       "      <td>Student 71</td>\n",
       "      <td>MS/PhD</td>\n",
       "      <td>Program 2</td>\n",
       "      <td>M</td>\n",
       "      <td>N</td>\n",
       "      <td>F1</td>\n",
       "      <td>Other</td>\n",
       "      <td>5.0</td>\n",
       "      <td>2020-10-21</td>\n",
       "      <td>Yes</td>\n",
       "    </tr>\n",
       "  </tbody>\n",
       "</table>\n",
       "</div>"
      ],
      "text/plain": [
       "   Starting Year Student Identifier Program Billing_Program gender  \\\n",
       "0     2020-01-01        Student 126  MS/PhD       Program 2      M   \n",
       "1     2020-01-01        Student 132     PhD       Program 2      M   \n",
       "2     2020-01-01        Student 129  MS/PhD       Program 2      M   \n",
       "3     2020-01-01        Student 135     PhD       Program 2      M   \n",
       "4     2020-01-01        Student 134     PhD       Program 2      M   \n",
       "5     2019-01-01        Student 120     PhD       Program 2      M   \n",
       "6     2018-01-01        Student 102  MS/PhD       Program 2      M   \n",
       "7     2018-01-01        Student 103  MS/PhD       Program 2      F   \n",
       "8     2018-01-01        Student 113     PhD       Program 2      M   \n",
       "9     2017-01-01         Student 91  MS/PhD       Program 2      M   \n",
       "10    2017-01-01         Student 90  MS/PhD       Program 2      M   \n",
       "11    2017-01-01         Student 96  MS/PhD       Program 2      F   \n",
       "12    2017-01-01         Student 99     PhD       Program 2      M   \n",
       "13    2017-01-01         Student 88  MS/PhD       Program 2      M   \n",
       "14    2016-01-01         Student 77  MS/PhD       Program 2      M   \n",
       "15    2015-01-01         Student 59  MS/PhD       Program 1      M   \n",
       "16    2015-01-01         Student 65  MS/PhD       Program 2      M   \n",
       "17    2015-01-01         Student 74     PhD       Program 2      M   \n",
       "18    2015-01-01         Student 64     PhD       Program 2      M   \n",
       "19    2015-01-01         Student 71  MS/PhD       Program 2      M   \n",
       "\n",
       "   US_Citz/PR_Status Visa_Type Ethnicity  Years Registered Graduation_Date  \\\n",
       "0                  N        Z1     Other               0.5             NaN   \n",
       "1                  N        Z1     Other               0.5             NaN   \n",
       "2                  N        Z1     Other               0.5             NaN   \n",
       "3                  N        F1     Other               0.5             NaN   \n",
       "4                  N        F1     Other               0.5             NaN   \n",
       "5                  N        F1     Other               1.5             NaN   \n",
       "6                  N        F1     Other               2.5             NaN   \n",
       "7                  N        F1     Other               2.5             NaN   \n",
       "8                  N        F1     Other               2.5             NaN   \n",
       "9                  Y        C      White               3.5             NaN   \n",
       "10                 Y        C      White               3.5             NaN   \n",
       "11                 N        F1     Other               3.5             NaN   \n",
       "12                 N        F1     Other               3.5             NaN   \n",
       "13                 N        F1     Other               3.5             NaN   \n",
       "14                 N        F1     Other               4.5             NaN   \n",
       "15                 N        F1     Other               5.0      2020-05-20   \n",
       "16                 N        F1     Other               5.5             NaN   \n",
       "17                 N        F1     Other               4.0      2019-05-22   \n",
       "18                 Y        C      Asian               5.0      2020-10-21   \n",
       "19                 N        F1     Other               5.0      2020-10-21   \n",
       "\n",
       "   Graduated  \n",
       "0         No  \n",
       "1         No  \n",
       "2         No  \n",
       "3         No  \n",
       "4         No  \n",
       "5         No  \n",
       "6         No  \n",
       "7         No  \n",
       "8         No  \n",
       "9         No  \n",
       "10        No  \n",
       "11        No  \n",
       "12        No  \n",
       "13        No  \n",
       "14        No  \n",
       "15       Yes  \n",
       "16        No  \n",
       "17       Yes  \n",
       "18       Yes  \n",
       "19       Yes  "
      ]
     },
     "execution_count": 12,
     "metadata": {},
     "output_type": "execute_result"
    }
   ],
   "source": [
    "#sort data by starting year, reset index, drop old indexes\n",
    "\n",
    "df.sort_values('Starting Year', ascending=False, inplace=True)\n",
    "df.reset_index(drop=True, inplace=True)\n",
    "df.head(20)"
   ]
  },
  {
   "cell_type": "code",
   "execution_count": 13,
   "metadata": {
    "colab": {
     "base_uri": "https://localhost:8080/",
     "height": 854
    },
    "executionInfo": {
     "elapsed": 589,
     "status": "ok",
     "timestamp": 1693786684424,
     "user": {
      "displayName": "Kaimi Huang",
      "userId": "13785883289456130160"
     },
     "user_tz": 240
    },
    "id": "v7saX9PT425r",
    "outputId": "77ade915-a516-4ea9-9627-b83124a6b621"
   },
   "outputs": [
    {
     "name": "stdout",
     "output_type": "stream",
     "text": [
      "MS/PhD:\n",
      "count    28.000000\n",
      "mean      4.107143\n",
      "std       1.765708\n",
      "min       0.500000\n",
      "25%       3.500000\n",
      "50%       5.000000\n",
      "75%       5.000000\n",
      "max       7.000000\n",
      "Name: Years Registered, dtype: float64\n",
      "\n",
      "PhD:\n",
      "count    22.000000\n",
      "mean      3.977273\n",
      "std       1.861114\n",
      "min       0.500000\n",
      "25%       3.000000\n",
      "50%       5.000000\n",
      "75%       5.000000\n",
      "max       6.000000\n",
      "Name: Years Registered, dtype: float64\n",
      "\n"
     ]
    },
    {
     "data": {
      "image/png": "[encoded data removed]",
      "text/plain": [
       "<Figure size 640x480 with 1 Axes>"
      ]
     },
     "metadata": {},
     "output_type": "display_data"
    }
   ],
   "source": [
    "#how long do students usually stay in each program, regardless of completion?\n",
    "\n",
    "df_gb_programs = df.groupby('Program')\n",
    "for group,ind in df_gb_programs.groups.items():\n",
    "  print(f\"{group}:\\n{df_gb_programs.get_group(group)['Years Registered'].describe()}\\n\")\n",
    "\n",
    "#illustrate summary stats in one graph\n",
    "sn.swarmplot(x=df.Program, y=df['Years Registered'], hue=df.Program)\n",
    "plt.title('All Students')\n",
    "plt.show()"
   ]
  },
  {
   "cell_type": "code",
   "execution_count": 14,
   "metadata": {
    "colab": {
     "base_uri": "https://localhost:8080/"
    },
    "executionInfo": {
     "elapsed": 2,
     "status": "ok",
     "timestamp": 1693786684424,
     "user": {
      "displayName": "Kaimi Huang",
      "userId": "13785883289456130160"
     },
     "user_tz": 240
    },
    "id": "mHbD9pGg06Nv",
    "outputId": "baab29d8-2c5a-453c-cbc0-0950121f8227"
   },
   "outputs": [
    {
     "data": {
      "text/plain": [
       "datetime.date(2020, 1, 30)"
      ]
     },
     "execution_count": 14,
     "metadata": {},
     "output_type": "execute_result"
    }
   ],
   "source": [
    "#seems like there is a pattern among recent students without graduation dates. they might be impacted by covid\n",
    "#The World Health Organization (WHO) declared the outbreak a public health emergency of international concern on 30 January 2020, and a pandemic on 11 March 2020.\n",
    "\n",
    "covid_start_date = pd.to_datetime('2020-1-30',format='%Y-%m-%d').date()\n",
    "covid_start_date"
   ]
  },
  {
   "cell_type": "code",
   "execution_count": 15,
   "metadata": {
    "id": "L8gj7Jt3t6DJ"
   },
   "outputs": [],
   "source": [
    "#if covid happended during a student's study, then it might be an influencing factor\n",
    "#add stop_time column to reflect when a student completed a program or stopped registering for classes\n",
    "#add a covid column to include the covid variable\n",
    "\n",
    "stop_date = []\n",
    "covid = []\n",
    "\n",
    "days_registered = df['Years Registered']*365\n",
    "\n",
    "for i in range(df.shape[0]):\n",
    "  graudation_date = pd.to_datetime(df['Graduation_Date'][i]).date()\n",
    "  stop_date_temp =  pd.to_datetime(df['Starting Year'][i] + timedelta(days = days_registered[i])).date()\n",
    "\n",
    "  #logic: if a student graduated, then the stop date or last date enrolled should be equal to the graduation date\n",
    "  if df['Graduated'][i] == 'Yes':\n",
    "    stop_date.append(graudation_date)\n",
    "    covid.append(graudation_date >=covid_start_date)\n",
    "\n",
    "  #if a student did not graduate, and if the stop date is greater than or equal to covid start date,\n",
    "  #then the student's last date enrolled is for sure greater than the covid start date, even if s/he took leave of absence,\n",
    "  #and so the covid factor applies\n",
    "  elif stop_date_temp >= covid_start_date:\n",
    "    stop_date.append(stop_date_temp)\n",
    "    covid.append(True)\n",
    "\n",
    "  #else, we cannot be sure whether the covid era overlapped with the student's study\n",
    "  else:\n",
    "    stop_date.append('Unknown')\n",
    "    covid.append('Unknown')\n",
    "\n",
    "df['stop_date'] = stop_date\n",
    "df['Covid'] = covid\n",
    "\n",
    "df.rename(columns = {'Covid':'Was Covid-19 present during study?'},inplace=True)"
   ]
  },
  {
   "cell_type": "code",
   "execution_count": 16,
   "metadata": {
    "colab": {
     "base_uri": "https://localhost:8080/",
     "height": 854
    },
    "executionInfo": {
     "elapsed": 767,
     "status": "ok",
     "timestamp": 1693786685190,
     "user": {
      "displayName": "Kaimi Huang",
      "userId": "13785883289456130160"
     },
     "user_tz": 240
    },
    "id": "8LXE0qXLG-iQ",
    "outputId": "a325ffac-e6d6-4b1d-de25-33affaeb3793"
   },
   "outputs": [
    {
     "name": "stdout",
     "output_type": "stream",
     "text": [
      "MS/PhD:\n",
      "count    15.000000\n",
      "mean      4.533333\n",
      "std       1.619818\n",
      "min       0.500000\n",
      "25%       4.750000\n",
      "50%       5.000000\n",
      "75%       5.250000\n",
      "max       6.000000\n",
      "Name: Years Registered, dtype: float64\n",
      "\n",
      "PhD:\n",
      "count    14.000000\n",
      "mean      4.857143\n",
      "std       1.027105\n",
      "min       3.000000\n",
      "25%       4.250000\n",
      "50%       5.000000\n",
      "75%       5.750000\n",
      "max       6.000000\n",
      "Name: Years Registered, dtype: float64\n",
      "\n"
     ]
    },
    {
     "data": {
      "image/png": "[encoded data removed]",
      "text/plain": [
       "<Figure size 640x480 with 1 Axes>"
      ]
     },
     "metadata": {},
     "output_type": "display_data"
    }
   ],
   "source": [
    "#under normal circumstance - w/o presence of covid, how long do students usually stay in each program, \n",
    "#regardless of completion?\n",
    "\n",
    "df_new = df[df['Was Covid-19 present during study?'] != True]\n",
    "df_new = df_new.reset_index(drop=True)\n",
    "\n",
    "df_new_gb_programs = df_new.groupby('Program')\n",
    "for group,ind in df_new_gb_programs.groups.items():\n",
    "  print(f\"{group}:\\n{df_new_gb_programs.get_group(group)['Years Registered'].describe()}\\n\")\n",
    "\n",
    "#illustrate summary stats in one graph\n",
    "sn.swarmplot(x=df_new.Program, y=df_new['Years Registered'], hue=df_new.Program, order=['MS/PhD','PhD'], hue_order=['MS/PhD','PhD'])\n",
    "plt.title('Students Graduated or Stopped Registering Before Covid')\n",
    "plt.show()"
   ]
  },
  {
   "cell_type": "code",
   "execution_count": 17,
   "metadata": {
    "colab": {
     "base_uri": "https://localhost:8080/",
     "height": 854
    },
    "executionInfo": {
     "elapsed": 670,
     "status": "ok",
     "timestamp": 1693786685859,
     "user": {
      "displayName": "Kaimi Huang",
      "userId": "13785883289456130160"
     },
     "user_tz": 240
    },
    "id": "VJumE6ZuItmL",
    "outputId": "80f00ad7-6232-431b-9c1a-aa4269bf8d72"
   },
   "outputs": [
    {
     "name": "stdout",
     "output_type": "stream",
     "text": [
      "MS/PhD:\n",
      "count    16.000000\n",
      "mean      5.218750\n",
      "std       0.682367\n",
      "min       4.000000\n",
      "25%       5.000000\n",
      "50%       5.000000\n",
      "75%       5.500000\n",
      "max       7.000000\n",
      "Name: Years Registered, dtype: float64\n",
      "\n",
      "PhD:\n",
      "count    15.000000\n",
      "mean      5.033333\n",
      "std       0.854958\n",
      "min       3.000000\n",
      "25%       5.000000\n",
      "50%       5.000000\n",
      "75%       5.750000\n",
      "max       6.000000\n",
      "Name: Years Registered, dtype: float64\n",
      "\n"
     ]
    },
    {
     "data": {
      "image/png": "[encoded data removed]",
      "text/plain": [
       "<Figure size 640x480 with 1 Axes>"
      ]
     },
     "metadata": {},
     "output_type": "display_data"
    }
   ],
   "source": [
    "#for those who graduated, how long did it take them to complete?\n",
    "\n",
    "df_grad = df[df['Graduated'] == 'Yes']\n",
    "df_grad = df_grad.reset_index(drop=True)\n",
    "\n",
    "df_grad_gb_programs = df_grad.groupby('Program')\n",
    "for group,ind in df_grad_gb_programs.groups.items():\n",
    "  print(f\"{group}:\\n{df_grad_gb_programs.get_group(group)['Years Registered'].describe()}\\n\")\n",
    "\n",
    "#illustrate summary stats in one graph\n",
    "sn.swarmplot(x=df_grad.Program, y=df_grad['Years Registered'], hue=df_grad.Program)\n",
    "plt.title('Students Who Graduated')\n",
    "plt.show()"
   ]
  },
  {
   "cell_type": "code",
   "execution_count": 18,
   "metadata": {},
   "outputs": [
    {
     "name": "stdout",
     "output_type": "stream",
     "text": [
      "MS/PhD:\n",
      "count    12.000000\n",
      "mean      2.625000\n",
      "std       1.680436\n",
      "min       0.500000\n",
      "25%       0.875000\n",
      "50%       3.000000\n",
      "75%       3.500000\n",
      "max       5.500000\n",
      "Name: Years Registered, dtype: float64\n",
      "\n",
      "PhD:\n",
      "count    7.000000\n",
      "mean     1.714286\n",
      "std      1.286375\n",
      "min      0.500000\n",
      "25%      0.500000\n",
      "50%      1.500000\n",
      "75%      2.750000\n",
      "max      3.500000\n",
      "Name: Years Registered, dtype: float64\n",
      "\n"
     ]
    },
    {
     "data": {
      "image/png": "[encoded data removed]",
      "text/plain": [
       "<Figure size 640x480 with 1 Axes>"
      ]
     },
     "metadata": {},
     "output_type": "display_data"
    }
   ],
   "source": [
    "#for those who did not graduate, how long did they stay in a program?\n",
    "\n",
    "df_grad = df[df['Graduated'] == 'No']\n",
    "df_grad = df_grad.reset_index(drop=True)\n",
    "\n",
    "df_grad_gb_programs = df_grad.groupby('Program')\n",
    "for group,ind in df_grad_gb_programs.groups.items():\n",
    "  print(f\"{group}:\\n{df_grad_gb_programs.get_group(group)['Years Registered'].describe()}\\n\")\n",
    "\n",
    "#illustrate summary stats in one graph\n",
    "sn.swarmplot(x=df_grad.Program, y=df_grad['Years Registered'], hue=df_grad.Program)\n",
    "plt.title('Students Who Did Not Graduate')\n",
    "plt.show()"
   ]
  },
  {
   "cell_type": "code",
   "execution_count": 33,
   "metadata": {},
   "outputs": [
    {
     "name": "stdout",
     "output_type": "stream",
     "text": [
      "No:\n",
      "count    19.000000\n",
      "mean      2.289474\n",
      "std       1.575117\n",
      "min       0.500000\n",
      "25%       0.500000\n",
      "50%       2.500000\n",
      "75%       3.500000\n",
      "max       5.500000\n",
      "Name: Years Registered, dtype: float64\n",
      "\n",
      "Yes:\n",
      "count    31.000000\n",
      "mean      5.129032\n",
      "std       0.763411\n",
      "min       3.000000\n",
      "25%       5.000000\n",
      "50%       5.000000\n",
      "75%       5.500000\n",
      "max       7.000000\n",
      "Name: Years Registered, dtype: float64\n",
      "\n"
     ]
    },
    {
     "data": {
      "image/png": "[encoded data removed]",
      "text/plain": [
       "<Figure size 640x480 with 1 Axes>"
      ]
     },
     "metadata": {},
     "output_type": "display_data"
    },
    {
     "name": "stdout",
     "output_type": "stream",
     "text": [
      "T Statistic is 8.565491746937226. P-value is 3.1200455203776904e-11. Reject the null hypothesis. The average years spent in a program between the two groups are not identical.\n"
     ]
    },
    {
     "name": "stderr",
     "output_type": "stream",
     "text": [
      "/var/folders/6t/qq3z1qdx60s0sj_h80x_2wz40000gn/T/ipykernel_12447/463306086.py:16: DeprecationWarning: Please use `ttest_ind` from the `scipy.stats` namespace, the `scipy.stats.stats` namespace is deprecated.\n",
      "  t_stat, p_value = stats.ttest_ind(year_g, year_ng)\n"
     ]
    }
   ],
   "source": [
    "#covid seemed to be related to how long a student stayed in a program\n",
    "#run two-sample t-test to see if the differences are statistically significant\n",
    "\n",
    "df_gb_graduated = df.groupby('Graduated')\n",
    "for group,ind in df_gb_graduated.groups.items():\n",
    "    print(f\"{group}:\\n{df_gb_graduated.get_group(group)['Years Registered'].describe()}\\n\")\n",
    "\n",
    "df['all'] = ''\n",
    "sn.violinplot(data=df, x=\"all\", y=\"Years Registered\", hue=\"Graduated\", split=True, inner='quartile')\n",
    "plt.title('All Students')\n",
    "plt.show()\n",
    "\n",
    "year_g = df_gb_graduated.get_group('Yes')['Years Registered']\n",
    "year_ng = df_gb_graduated.get_group('No')['Years Registered']\n",
    "\n",
    "t_stat, p_value = stats.ttest_ind(year_g, year_ng)\n",
    "\n",
    "if p_value < 0.05:\n",
    "  print(f'T Statistic is {t_stat}. P-value is {p_value}. Reject the null hypothesis. The average years spent in a program between the two groups are not identical.')\n",
    "else:\n",
    "  print(f'T Statistic is {t_stat}. P-value is {p_value}. Fail to reject the null hypothesis. The average years in a program between the two groups are identical.')"
   ]
  },
  {
   "cell_type": "code",
   "execution_count": 20,
   "metadata": {
    "colab": {
     "base_uri": "https://localhost:8080/"
    },
    "executionInfo": {
     "elapsed": 6,
     "status": "ok",
     "timestamp": 1693786685860,
     "user": {
      "displayName": "Kaimi Huang",
      "userId": "13785883289456130160"
     },
     "user_tz": 240
    },
    "id": "Dwq-HHzmJa1e",
    "outputId": "df726c23-7ca1-47a3-895a-d5af5d991815"
   },
   "outputs": [
    {
     "name": "stdout",
     "output_type": "stream",
     "text": [
      "Chi-square Statistic is 33.83054410219096. P-value is 4.505994821918793e-08. Reject the null hypothesis. Covid and graduation rate are dependent.\n"
     ]
    }
   ],
   "source": [
    "#run chi-square tests to see if covid is linked to program completion\n",
    "\n",
    "contingency = pd.crosstab(df.loc[:,'Was Covid-19 present during study?'],df.loc[:,'Graduated'])\n",
    "\n",
    "c_sta, p_value, dof, expected = chi2_contingency(contingency)\n",
    "if p_value < 0.05:\n",
    "  print(f'Chi-square Statistic is {c_sta}. P-value is {p_value}. Reject the null hypothesis. Covid and graduation rate are dependent.')\n",
    "else:\n",
    "  print(f'Chi-square Statistic is {c_sta}. P-value is {p_value}. Fail to reject the null hypothesis. Covid and graduation rate are independent.')"
   ]
  },
  {
   "cell_type": "code",
   "execution_count": 21,
   "metadata": {
    "colab": {
     "base_uri": "https://localhost:8080/",
     "height": 175
    },
    "executionInfo": {
     "elapsed": 4,
     "status": "ok",
     "timestamp": 1693786685860,
     "user": {
      "displayName": "Kaimi Huang",
      "userId": "13785883289456130160"
     },
     "user_tz": 240
    },
    "id": "hhbOA8ZrpoiH",
    "outputId": "b14fffb8-98f6-412f-f9f5-70d9b6b60d5e"
   },
   "outputs": [
    {
     "data": {
      "text/html": [
       "<div>\n",
       "<style scoped>\n",
       "    .dataframe tbody tr th:only-of-type {\n",
       "        vertical-align: middle;\n",
       "    }\n",
       "\n",
       "    .dataframe tbody tr th {\n",
       "        vertical-align: top;\n",
       "    }\n",
       "\n",
       "    .dataframe thead th {\n",
       "        text-align: right;\n",
       "    }\n",
       "</style>\n",
       "<table border=\"1\" class=\"dataframe\">\n",
       "  <thead>\n",
       "    <tr style=\"text-align: right;\">\n",
       "      <th>Graduated</th>\n",
       "      <th>No</th>\n",
       "      <th>Yes</th>\n",
       "    </tr>\n",
       "    <tr>\n",
       "      <th>Was Covid-19 present during study?</th>\n",
       "      <th></th>\n",
       "      <th></th>\n",
       "    </tr>\n",
       "  </thead>\n",
       "  <tbody>\n",
       "    <tr>\n",
       "      <th>False</th>\n",
       "      <td>0.000000</td>\n",
       "      <td>1.000000</td>\n",
       "    </tr>\n",
       "    <tr>\n",
       "      <th>True</th>\n",
       "      <td>0.761905</td>\n",
       "      <td>0.238095</td>\n",
       "    </tr>\n",
       "    <tr>\n",
       "      <th>Unknown</th>\n",
       "      <td>1.000000</td>\n",
       "      <td>0.000000</td>\n",
       "    </tr>\n",
       "  </tbody>\n",
       "</table>\n",
       "</div>"
      ],
      "text/plain": [
       "Graduated                                 No       Yes\n",
       "Was Covid-19 present during study?                    \n",
       "False                               0.000000  1.000000\n",
       "True                                0.761905  0.238095\n",
       "Unknown                             1.000000  0.000000"
      ]
     },
     "execution_count": 21,
     "metadata": {},
     "output_type": "execute_result"
    }
   ],
   "source": [
    "pd.crosstab(df.loc[:,'Was Covid-19 present during study?'],df.loc[:,'Graduated'], normalize = 'index') \n",
    "\n",
    "#Normalize by dividing all values by the sum of values. index for row, columns for columns"
   ]
  },
  {
   "cell_type": "code",
   "execution_count": 22,
   "metadata": {
    "colab": {
     "base_uri": "https://localhost:8080/",
     "height": 175
    },
    "executionInfo": {
     "elapsed": 221,
     "status": "ok",
     "timestamp": 1693786686078,
     "user": {
      "displayName": "Kaimi Huang",
      "userId": "13785883289456130160"
     },
     "user_tz": 240
    },
    "id": "xNXMO1lmnmsv",
    "outputId": "c1e20e5d-6870-4e19-8596-5761949b653b"
   },
   "outputs": [
    {
     "data": {
      "text/html": [
       "<div>\n",
       "<style scoped>\n",
       "    .dataframe tbody tr th:only-of-type {\n",
       "        vertical-align: middle;\n",
       "    }\n",
       "\n",
       "    .dataframe tbody tr th {\n",
       "        vertical-align: top;\n",
       "    }\n",
       "\n",
       "    .dataframe thead th {\n",
       "        text-align: right;\n",
       "    }\n",
       "</style>\n",
       "<table border=\"1\" class=\"dataframe\">\n",
       "  <thead>\n",
       "    <tr style=\"text-align: right;\">\n",
       "      <th>Graduated</th>\n",
       "      <th>No</th>\n",
       "      <th>Yes</th>\n",
       "    </tr>\n",
       "    <tr>\n",
       "      <th>Was Covid-19 present during study?</th>\n",
       "      <th></th>\n",
       "      <th></th>\n",
       "    </tr>\n",
       "  </thead>\n",
       "  <tbody>\n",
       "    <tr>\n",
       "      <th>False</th>\n",
       "      <td>0</td>\n",
       "      <td>26</td>\n",
       "    </tr>\n",
       "    <tr>\n",
       "      <th>True</th>\n",
       "      <td>16</td>\n",
       "      <td>5</td>\n",
       "    </tr>\n",
       "    <tr>\n",
       "      <th>Unknown</th>\n",
       "      <td>3</td>\n",
       "      <td>0</td>\n",
       "    </tr>\n",
       "  </tbody>\n",
       "</table>\n",
       "</div>"
      ],
      "text/plain": [
       "Graduated                           No  Yes\n",
       "Was Covid-19 present during study?         \n",
       "False                                0   26\n",
       "True                                16    5\n",
       "Unknown                              3    0"
      ]
     },
     "execution_count": 22,
     "metadata": {},
     "output_type": "execute_result"
    }
   ],
   "source": [
    "contingency"
   ]
  },
  {
   "cell_type": "code",
   "execution_count": 23,
   "metadata": {
    "colab": {
     "base_uri": "https://localhost:8080/",
     "height": 466
    },
    "executionInfo": {
     "elapsed": 373,
     "status": "ok",
     "timestamp": 1693786686445,
     "user": {
      "displayName": "Kaimi Huang",
      "userId": "13785883289456130160"
     },
     "user_tz": 240
    },
    "id": "W-NStpjnlWyD",
    "outputId": "cc3bb6a9-4475-4cc9-f5e6-011b2adabac1"
   },
   "outputs": [
    {
     "data": {
      "text/plain": [
       "Text(0, 0.5, 'Number of Students')"
      ]
     },
     "execution_count": 23,
     "metadata": {},
     "output_type": "execute_result"
    },
    {
     "data": {
      "image/png": "[encoded data removed]",
      "text/plain": [
       "<Figure size 640x480 with 1 Axes>"
      ]
     },
     "metadata": {},
     "output_type": "display_data"
    }
   ],
   "source": [
    "#make a stacked bar graph to show the significance\n",
    "\n",
    "contingency.plot(kind='bar',stacked=True,rot=0,color = ['orange','blue'])\n",
    "plt.ylabel('Number of Students')"
   ]
  },
  {
   "cell_type": "code",
   "execution_count": 24,
   "metadata": {
    "colab": {
     "base_uri": "https://localhost:8080/",
     "height": 81
    },
    "executionInfo": {
     "elapsed": 11,
     "status": "ok",
     "timestamp": 1693786686445,
     "user": {
      "displayName": "Kaimi Huang",
      "userId": "13785883289456130160"
     },
     "user_tz": 240
    },
    "id": "78M6ng_rELAu",
    "outputId": "9e75cafc-829a-4c4c-90b9-3f457b0fb019"
   },
   "outputs": [],
   "source": [
    "#see if other categorical variables affect grad rate as well\n",
    "#can drop the graduation_date column as there is already the \n",
    "#graduated column to indicate a student completed a program or not\n",
    "\n",
    "df.drop(columns = ['Graduation_Date'], inplace=True)"
   ]
  },
  {
   "cell_type": "code",
   "execution_count": 25,
   "metadata": {
    "colab": {
     "base_uri": "https://localhost:8080/"
    },
    "executionInfo": {
     "elapsed": 9,
     "status": "ok",
     "timestamp": 1693786686446,
     "user": {
      "displayName": "Kaimi Huang",
      "userId": "13785883289456130160"
     },
     "user_tz": 240
    },
    "id": "buw2ffFgp2VI",
    "outputId": "43709e68-3f37-490a-c848-a895373159ac"
   },
   "outputs": [
    {
     "data": {
      "text/plain": [
       "['Starting Year',\n",
       " 'Student Identifier',\n",
       " 'Program',\n",
       " 'Billing_Program',\n",
       " 'gender',\n",
       " 'US_Citz/PR_Status',\n",
       " 'Visa_Type',\n",
       " 'Ethnicity',\n",
       " 'Years Registered',\n",
       " 'Graduated',\n",
       " 'stop_date',\n",
       " 'Was Covid-19 present during study?',\n",
       " 'all']"
      ]
     },
     "execution_count": 25,
     "metadata": {},
     "output_type": "execute_result"
    }
   ],
   "source": [
    "df.columns.to_list()"
   ]
  },
  {
   "cell_type": "code",
   "execution_count": 26,
   "metadata": {
    "colab": {
     "base_uri": "https://localhost:8080/"
    },
    "executionInfo": {
     "elapsed": 6,
     "status": "ok",
     "timestamp": 1693786686446,
     "user": {
      "displayName": "Kaimi Huang",
      "userId": "13785883289456130160"
     },
     "user_tz": 240
    },
    "id": "NXBPvJhxCgyR",
    "outputId": "1c690880-6b42-425b-bbd8-84299c513b03"
   },
   "outputs": [
    {
     "data": {
      "text/plain": [
       "['Program',\n",
       " 'Billing_Program',\n",
       " 'gender',\n",
       " 'US_Citz/PR_Status',\n",
       " 'Visa_Type',\n",
       " 'Ethnicity']"
      ]
     },
     "execution_count": 26,
     "metadata": {},
     "output_type": "execute_result"
    }
   ],
   "source": [
    "#get a list of factors to run chi-square tests\n",
    "\n",
    "num_factors = 6\n",
    "factors = list(df.columns[2:2+num_factors])\n",
    "factors"
   ]
  },
  {
   "cell_type": "code",
   "execution_count": 27,
   "metadata": {
    "id": "koMwIupfFds2"
   },
   "outputs": [],
   "source": [
    "#run chi-square tests to see if any of the categorical factors are linked to program completion\n",
    "\n",
    "color = ['orange','blue']\n",
    "for factor in factors:\n",
    "  #first, take a look at the program factor\n",
    "  if factor == 'Program':\n",
    "    df_temp = df.loc[:,[factor,'Graduated']]\n",
    "    contingency = pd.crosstab(df_temp.loc[:,factor], df_temp.loc[:,'Graduated'])\n",
    "    #contingency.plot(kind='bar',stacked=True,rot=0, color = color)\n",
    "    #plt.ylabel('Number of Students')\n",
    "    c_sta, p_value, dof, expected = chi2_contingency(contingency)\n",
    "\n",
    "    if p_value < 0.05:\n",
    "      print(f'Contingency:\\n{contingency}\\n')\n",
    "      print(f\"Crosstab:\\n{pd.crosstab(df_temp.loc[:,factor], df_temp.loc[:,'Graduated'], normalize='index')}\\n\")\n",
    "      print(f'Expected Contingency:\\n{expected}\\n')\n",
    "      print(f'Chi-square Statistic is {c_sta}. P-value is {p_value}. Reject the null hypothesis. {factor} and graduation rate are dependent.')\n",
    "\n",
    "  # else:\n",
    "  #   print(f'Chi-square Statistic is {c_sta}. P-value is {p_value}. Fail to reject the null hypothesis. {factor} and graduation rate are independent.')\n",
    "\n",
    "  else:\n",
    "    #then, for the other factors, separate the data by program, and then run chi square tests on each program's data\n",
    "    for i in range(df.Program.nunique()):\n",
    "      df_temp = df.loc[:,[factor,'Graduated']][df.Program == df.Program.unique()[i]]\n",
    "      contingency = pd.crosstab(df_temp.loc[:,factor],df_temp.loc[:,'Graduated'])\n",
    "      #contingency.plot(kind='bar',stacked=True,rot=0, title=f'Program: {df.Program.unique()[i]}',color = color)\n",
    "      #plt.ylabel('Number of Students')\n",
    "      c_sta, p_value, dof, expected = chi2_contingency(contingency)\n",
    "\n",
    "      if p_value < 0.05:\n",
    "        print(f'{df.Program.unique()[i]}\\n')\n",
    "        print(f'Contingency:\\n{contingency}\\n')\n",
    "        print(f\"Crosstab:\\n{pd.crosstab(df_temp.loc[:,factor],df_temp.loc[:,'Graduated'], normalize='index')}\\n\")\n",
    "        print(f'Expected Contingency:\\n{expected}\\n')\n",
    "        print(f'Chi-square Statistic is {c_sta}. P-value is {p_value}. Reject the null hypothesis. {factor} and graduation rate are dependent.')\n",
    "\n",
    "  #   else:\n",
    "  #     print(f'Chi-square Statistic is {c_sta}. P-value is {p_value}. Fail to reject the null hypothesis. {factor} and graduation rate are independent.')\n"
   ]
  },
  {
   "cell_type": "markdown",
   "metadata": {
    "id": "d9k1NDuBulrX"
   },
   "source": [
    "Logistic Regression"
   ]
  },
  {
   "cell_type": "code",
   "execution_count": 28,
   "metadata": {
    "colab": {
     "base_uri": "https://localhost:8080/",
     "height": 206
    },
    "executionInfo": {
     "elapsed": 143,
     "status": "ok",
     "timestamp": 1693786686775,
     "user": {
      "displayName": "Kaimi Huang",
      "userId": "13785883289456130160"
     },
     "user_tz": 240
    },
    "id": "H98rzvzBuq1K",
    "outputId": "c10f9952-a6af-4e53-ea30-a2ea0ce79aa6"
   },
   "outputs": [
    {
     "data": {
      "text/html": [
       "<div>\n",
       "<style scoped>\n",
       "    .dataframe tbody tr th:only-of-type {\n",
       "        vertical-align: middle;\n",
       "    }\n",
       "\n",
       "    .dataframe tbody tr th {\n",
       "        vertical-align: top;\n",
       "    }\n",
       "\n",
       "    .dataframe thead th {\n",
       "        text-align: right;\n",
       "    }\n",
       "</style>\n",
       "<table border=\"1\" class=\"dataframe\">\n",
       "  <thead>\n",
       "    <tr style=\"text-align: right;\">\n",
       "      <th></th>\n",
       "      <th>Starting Year</th>\n",
       "      <th>Student Identifier</th>\n",
       "      <th>Program</th>\n",
       "      <th>Billing_Program</th>\n",
       "      <th>gender</th>\n",
       "      <th>US_Citz/PR_Status</th>\n",
       "      <th>Visa_Type</th>\n",
       "      <th>Ethnicity</th>\n",
       "      <th>Years Registered</th>\n",
       "      <th>Graduated</th>\n",
       "      <th>stop_date</th>\n",
       "      <th>Was Covid-19 present during study?</th>\n",
       "      <th>all</th>\n",
       "    </tr>\n",
       "  </thead>\n",
       "  <tbody>\n",
       "    <tr>\n",
       "      <th>0</th>\n",
       "      <td>2020-01-01</td>\n",
       "      <td>Student 126</td>\n",
       "      <td>MS/PhD</td>\n",
       "      <td>Program 2</td>\n",
       "      <td>M</td>\n",
       "      <td>N</td>\n",
       "      <td>Z1</td>\n",
       "      <td>Other</td>\n",
       "      <td>0.5</td>\n",
       "      <td>No</td>\n",
       "      <td>2020-07-01</td>\n",
       "      <td>True</td>\n",
       "      <td></td>\n",
       "    </tr>\n",
       "    <tr>\n",
       "      <th>1</th>\n",
       "      <td>2020-01-01</td>\n",
       "      <td>Student 132</td>\n",
       "      <td>PhD</td>\n",
       "      <td>Program 2</td>\n",
       "      <td>M</td>\n",
       "      <td>N</td>\n",
       "      <td>Z1</td>\n",
       "      <td>Other</td>\n",
       "      <td>0.5</td>\n",
       "      <td>No</td>\n",
       "      <td>2020-07-01</td>\n",
       "      <td>True</td>\n",
       "      <td></td>\n",
       "    </tr>\n",
       "    <tr>\n",
       "      <th>2</th>\n",
       "      <td>2020-01-01</td>\n",
       "      <td>Student 129</td>\n",
       "      <td>MS/PhD</td>\n",
       "      <td>Program 2</td>\n",
       "      <td>M</td>\n",
       "      <td>N</td>\n",
       "      <td>Z1</td>\n",
       "      <td>Other</td>\n",
       "      <td>0.5</td>\n",
       "      <td>No</td>\n",
       "      <td>2020-07-01</td>\n",
       "      <td>True</td>\n",
       "      <td></td>\n",
       "    </tr>\n",
       "    <tr>\n",
       "      <th>3</th>\n",
       "      <td>2020-01-01</td>\n",
       "      <td>Student 135</td>\n",
       "      <td>PhD</td>\n",
       "      <td>Program 2</td>\n",
       "      <td>M</td>\n",
       "      <td>N</td>\n",
       "      <td>F1</td>\n",
       "      <td>Other</td>\n",
       "      <td>0.5</td>\n",
       "      <td>No</td>\n",
       "      <td>2020-07-01</td>\n",
       "      <td>True</td>\n",
       "      <td></td>\n",
       "    </tr>\n",
       "    <tr>\n",
       "      <th>4</th>\n",
       "      <td>2020-01-01</td>\n",
       "      <td>Student 134</td>\n",
       "      <td>PhD</td>\n",
       "      <td>Program 2</td>\n",
       "      <td>M</td>\n",
       "      <td>N</td>\n",
       "      <td>F1</td>\n",
       "      <td>Other</td>\n",
       "      <td>0.5</td>\n",
       "      <td>No</td>\n",
       "      <td>2020-07-01</td>\n",
       "      <td>True</td>\n",
       "      <td></td>\n",
       "    </tr>\n",
       "  </tbody>\n",
       "</table>\n",
       "</div>"
      ],
      "text/plain": [
       "  Starting Year Student Identifier Program Billing_Program gender  \\\n",
       "0    2020-01-01        Student 126  MS/PhD       Program 2      M   \n",
       "1    2020-01-01        Student 132     PhD       Program 2      M   \n",
       "2    2020-01-01        Student 129  MS/PhD       Program 2      M   \n",
       "3    2020-01-01        Student 135     PhD       Program 2      M   \n",
       "4    2020-01-01        Student 134     PhD       Program 2      M   \n",
       "\n",
       "  US_Citz/PR_Status Visa_Type Ethnicity  Years Registered Graduated  \\\n",
       "0                 N        Z1     Other               0.5        No   \n",
       "1                 N        Z1     Other               0.5        No   \n",
       "2                 N        Z1     Other               0.5        No   \n",
       "3                 N        F1     Other               0.5        No   \n",
       "4                 N        F1     Other               0.5        No   \n",
       "\n",
       "    stop_date Was Covid-19 present during study? all  \n",
       "0  2020-07-01                               True      \n",
       "1  2020-07-01                               True      \n",
       "2  2020-07-01                               True      \n",
       "3  2020-07-01                               True      \n",
       "4  2020-07-01                               True      "
      ]
     },
     "execution_count": 28,
     "metadata": {},
     "output_type": "execute_result"
    }
   ],
   "source": [
    "#use logistic regression to predict graduation; response variable is \"Graudated\"\n",
    "\n",
    "df.head()"
   ]
  },
  {
   "cell_type": "code",
   "execution_count": 49,
   "metadata": {
    "id": "mk91yaSz3woo"
   },
   "outputs": [],
   "source": [
    "from sklearn import preprocessing\n",
    "from sklearn.linear_model import LogisticRegression\n",
    "from sklearn.preprocessing import OneHotEncoder\n",
    "from sklearn.model_selection import cross_val_score\n",
    "\n",
    "lb = preprocessing.LabelBinarizer()\n",
    "y = lb.fit_transform(df.Graduated).reshape(-1)"
   ]
  },
  {
   "cell_type": "code",
   "execution_count": 37,
   "metadata": {
    "id": "EU4g6vJQblq2"
   },
   "outputs": [],
   "source": [
    "#rename covid column\n",
    "\n",
    "df.rename(columns = {'Was Covid-19 present during study?': 'covid'},inplace=True)"
   ]
  },
  {
   "cell_type": "code",
   "execution_count": 38,
   "metadata": {
    "id": "uVS9NpcJcJUG"
   },
   "outputs": [],
   "source": [
    "#drop variables that are not obviously relevant except for the continuous variable, \n",
    "#and Years Registered, which will be added back to df_predictors later\n",
    "\n",
    "df_predictors = df.drop(columns=['Starting Year','Student Identifier','Years Registered','Graduated','stop_date'])"
   ]
  },
  {
   "cell_type": "code",
   "execution_count": 39,
   "metadata": {
    "id": "nZr3sXdcdIVz"
   },
   "outputs": [],
   "source": [
    "onehot_encoder = OneHotEncoder(sparse=False)"
   ]
  },
  {
   "cell_type": "code",
   "execution_count": 40,
   "metadata": {
    "id": "mvIvaJb3dhgU"
   },
   "outputs": [],
   "source": [
    "predictors = df_predictors.columns.to_list()"
   ]
  },
  {
   "cell_type": "code",
   "execution_count": 41,
   "metadata": {
    "colab": {
     "base_uri": "https://localhost:8080/"
    },
    "executionInfo": {
     "elapsed": 5,
     "status": "ok",
     "timestamp": 1693786686776,
     "user": {
      "displayName": "Kaimi Huang",
      "userId": "13785883289456130160"
     },
     "user_tz": 240
    },
    "id": "GNP7e5tqhLOL",
    "outputId": "2cdba4e5-2a26-4e67-f0ce-7fcff3df690d"
   },
   "outputs": [
    {
     "name": "stdout",
     "output_type": "stream",
     "text": [
      "Program: ['MS/PhD' 'PhD']\n",
      "Billing_Program: ['Program 2' 'Program 1']\n",
      "gender: ['M' 'F']\n",
      "US_Citz/PR_Status: ['N' 'Y']\n",
      "Visa_Type: ['Z1' 'F1' 'C ' 'PR' 'NI' 'J1' 'Unknown']\n",
      "Ethnicity: ['Other' 'White' 'Asian']\n",
      "covid: [True False 'Unknown']\n",
      "all: ['']\n"
     ]
    }
   ],
   "source": [
    "for predictor in predictors:\n",
    "  print(f'{predictor}: {df[predictor].unique()}')"
   ]
  },
  {
   "cell_type": "code",
   "execution_count": 42,
   "metadata": {
    "id": "nGoz-Q6YZjax"
   },
   "outputs": [],
   "source": [
    "#encode categorical variable columns\n",
    "df_predictors_2 = pd.get_dummies(df_predictors)\n",
    "\n",
    "#drop one column from each category\n",
    "df_predictors_2.drop(columns=[f'{predictor}_{df[predictor].unique()[0]}' for predictor in predictors], inplace=True)\n",
    "\n",
    "#add the continues predictor to df_predictors\n",
    "df_predictors_2['Years Registered'] = df['Years Registered']\n",
    "\n",
    "#df_predictors_2"
   ]
  },
  {
   "cell_type": "code",
   "execution_count": 43,
   "metadata": {
    "id": "8lIESLwtqCrc"
   },
   "outputs": [],
   "source": [
    "X = df_predictors_2.to_numpy()"
   ]
  },
  {
   "cell_type": "code",
   "execution_count": 44,
   "metadata": {
    "id": "SRi-blRxry3k"
   },
   "outputs": [],
   "source": [
    "#get_scorer_names()"
   ]
  },
  {
   "cell_type": "code",
   "execution_count": 45,
   "metadata": {
    "colab": {
     "base_uri": "https://localhost:8080/"
    },
    "executionInfo": {
     "elapsed": 326,
     "status": "ok",
     "timestamp": 1693791036655,
     "user": {
      "displayName": "Kaimi Huang",
      "userId": "13785883289456130160"
     },
     "user_tz": 240
    },
    "id": "ZrQv55DCjtLY",
    "outputId": "7ffa9a2d-883a-4958-de6a-83b32789a92e"
   },
   "outputs": [
    {
     "name": "stdout",
     "output_type": "stream",
     "text": [
      "K-fold cross-validation results:\n",
      "LogisticRegression average accuracy is 0.920\n",
      "LogisticRegression average precision is 0.933\n",
      "LogisticRegression average recall is 0.967\n",
      "LogisticRegression average f1 is 0.942\n"
     ]
    }
   ],
   "source": [
    "logreg = LogisticRegression()\n",
    "\n",
    "scores_accuracy = cross_val_score(logreg, X, y, cv=5, scoring='accuracy')\n",
    "scores_precision = cross_val_score(logreg, X, y, cv=5, scoring='precision')\n",
    "scores_recall = cross_val_score(logreg, X, y, cv=5, scoring='recall')\n",
    "scores_f1 = cross_val_score(logreg, X, y, cv=5, scoring='f1')\n",
    "scores_auc = cross_val_score(logreg, X, y, cv=5, scoring='roc_auc')\n",
    "\n",
    "print('K-fold cross-validation results:')\n",
    "print(logreg.__class__.__name__+\" average accuracy is %2.3f\" % scores_accuracy.mean())\n",
    "print(logreg.__class__.__name__+\" average precision is %2.3f\" % scores_precision.mean())\n",
    "print(logreg.__class__.__name__+\" average recall is %2.3f\" % scores_recall.mean())\n",
    "print(logreg.__class__.__name__+\" average f1 is %2.3f\" % scores_f1.mean())"
   ]
  },
  {
   "cell_type": "code",
   "execution_count": 46,
   "metadata": {
    "colab": {
     "base_uri": "https://localhost:8080/"
    },
    "executionInfo": {
     "elapsed": 329,
     "status": "ok",
     "timestamp": 1693791046210,
     "user": {
      "displayName": "Kaimi Huang",
      "userId": "13785883289456130160"
     },
     "user_tz": 240
    },
    "id": "KQM_lvEOucqg",
    "outputId": "72061bdb-3131-404c-ec0b-6ce95f73d0e5"
   },
   "outputs": [
    {
     "name": "stdout",
     "output_type": "stream",
     "text": [
      "K-fold cross-validation results:\n",
      "LogisticRegression average accuracy is 0.880\n",
      "LogisticRegression average precision is 0.950\n",
      "LogisticRegression average recall is 0.867\n",
      "LogisticRegression average f1 is 0.887\n"
     ]
    }
   ],
   "source": [
    "#what if we take away the predictor Years Registered?\n",
    "\n",
    "X_2 = df_predictors_2.drop(columns = ['Years Registered']).to_numpy()\n",
    "\n",
    "scores_accuracy = cross_val_score(logreg, X_2, y, cv=5, scoring='accuracy')\n",
    "scores_precision = cross_val_score(logreg, X_2, y, cv=5, scoring='precision')\n",
    "scores_recall = cross_val_score(logreg, X_2, y, cv=5, scoring='recall')\n",
    "scores_f1 = cross_val_score(logreg, X_2, y, cv=5, scoring='f1')\n",
    "scores_auc = cross_val_score(logreg, X_2, y, cv=5, scoring='roc_auc')\n",
    "\n",
    "print('K-fold cross-validation results:')\n",
    "print(logreg.__class__.__name__+\" average accuracy is %2.3f\" % scores_accuracy.mean())\n",
    "print(logreg.__class__.__name__+\" average precision is %2.3f\" % scores_precision.mean())\n",
    "print(logreg.__class__.__name__+\" average recall is %2.3f\" % scores_recall.mean())\n",
    "print(logreg.__class__.__name__+\" average f1 is %2.3f\" % scores_f1.mean())"
   ]
  },
  {
   "cell_type": "code",
   "execution_count": 47,
   "metadata": {
    "id": "d9ur60R4u9En"
   },
   "outputs": [],
   "source": [
    "#the metrics dropped slightly in the second model"
   ]
  },
  {
   "cell_type": "code",
   "execution_count": 48,
   "metadata": {
    "colab": {
     "base_uri": "https://localhost:8080/"
    },
    "executionInfo": {
     "elapsed": 506,
     "status": "ok",
     "timestamp": 1693791050220,
     "user": {
      "displayName": "Kaimi Huang",
      "userId": "13785883289456130160"
     },
     "user_tz": 240
    },
    "id": "Pk6FHJhVvcr9",
    "outputId": "150fdd04-fb94-4ec7-91a7-7d0e27fe45ae"
   },
   "outputs": [
    {
     "name": "stdout",
     "output_type": "stream",
     "text": [
      "K-fold cross-validation results:\n",
      "LogisticRegression average accuracy is 0.860\n",
      "LogisticRegression average precision is 0.883\n",
      "LogisticRegression average recall is 0.933\n",
      "LogisticRegression average f1 is 0.891\n"
     ]
    }
   ],
   "source": [
    "#what if we take away the predictor covid?\n",
    "\n",
    "X_3 = df_predictors_2.drop(columns = ['covid_Unknown','covid_False']).to_numpy()\n",
    "\n",
    "scores_accuracy = cross_val_score(logreg, X_3, y, cv=5, scoring='accuracy')\n",
    "scores_precision = cross_val_score(logreg, X_3, y, cv=5, scoring='precision')\n",
    "scores_recall = cross_val_score(logreg, X_3, y, cv=5, scoring='recall')\n",
    "scores_f1 = cross_val_score(logreg, X_3, y, cv=5, scoring='f1')\n",
    "scores_auc = cross_val_score(logreg, X_3, y, cv=5, scoring='roc_auc')\n",
    "\n",
    "print('K-fold cross-validation results:')\n",
    "print(logreg.__class__.__name__+\" average accuracy is %2.3f\" % scores_accuracy.mean())\n",
    "print(logreg.__class__.__name__+\" average precision is %2.3f\" % scores_precision.mean())\n",
    "print(logreg.__class__.__name__+\" average recall is %2.3f\" % scores_recall.mean())\n",
    "print(logreg.__class__.__name__+\" average f1 is %2.3f\" % scores_f1.mean())"
   ]
  },
  {
   "cell_type": "code",
   "execution_count": null,
   "metadata": {
    "id": "CWwDvaiwweBi"
   },
   "outputs": [],
   "source": [
    "#metrics also dropped compared with the first model"
   ]
  }
 ],
 "metadata": {
  "colab": {
   "authorship_tag": "ABX9TyMzERzX3vynGUwwnv9mnUjq",
   "provenance": [
    {
     "file_id": "12TMC2_uKCTldRAE4D23B9V5bRur7mZdG",
     "timestamp": 1693765886402
    }
   ],
   "toc_visible": true
  },
  "kernelspec": {
   "display_name": "Python 3 (ipykernel)",
   "language": "python",
   "name": "python3"
  },
  "language_info": {
   "codemirror_mode": {
    "name": "ipython",
    "version": 3
   },
   "file_extension": ".py",
   "mimetype": "text/x-python",
   "name": "python",
   "nbconvert_exporter": "python",
   "pygments_lexer": "ipython3",
   "version": "3.9.13"
  }
 },
 "nbformat": 4,
 "nbformat_minor": 1
}
